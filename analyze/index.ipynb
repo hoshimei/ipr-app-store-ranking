{
 "cells": [
  {
   "cell_type": "code",
   "execution_count": null,
   "metadata": {},
   "outputs": [],
   "source": [
    "from datetime import datetime\n",
    "import json\n",
    "\n",
    "JSON_FILE_NAME = \"result.json\" # Imported file name\n",
    "\n",
    "with open(JSON_FILE_NAME) as fp:\n",
    "    data = json.load(fp)\n",
    "\n",
    "messages = [{\n",
    "    \"date\": datetime.fromisoformat(item[\"date\"]),\n",
    "    \"text\": \"\".join([x[\"text\"] for x in item[\"text_entities\"]])\n",
    "} for item in data[\"messages\"]]\n",
    "\n",
    "messages"
   ]
  },
  {
   "cell_type": "code",
   "execution_count": null,
   "metadata": {},
   "outputs": [],
   "source": [
    "def extract_ranking_of_game(game_name: str) -> list[int]:\n",
    "    ever_listed = False\n",
    "    ret = []\n",
    "    for i in messages:\n",
    "        if not \"🎵\" in i[\"text\"]:\n",
    "            continue\n",
    "        found = False\n",
    "        for j in i[\"text\"].split(\"\\n\"):\n",
    "            if game_name not in j:\n",
    "                continue\n",
    "            rank = int(j.split(\"位\")[0])\n",
    "            ret.append({\n",
    "                \"date\": i[\"date\"],\n",
    "                \"rank\": rank\n",
    "            })\n",
    "            ever_listed = True\n",
    "            found = True\n",
    "            break\n",
    "\n",
    "        if not found and ever_listed:\n",
    "            ret.append({\n",
    "                \"date\": i[\"date\"],\n",
    "                \"rank\": 199 # not in ranking\n",
    "            })\n",
    "    return ret"
   ]
  },
  {
   "cell_type": "code",
   "execution_count": null,
   "metadata": {},
   "outputs": [],
   "source": [
    "import matplotlib\n",
    "import matplotlib.pyplot as plt\n",
    "\n",
    "matplotlib.rcParams['font.family'] = ['Noto Sans CJK JP', 'sans-serif']\n",
    "\n",
    "ax = plt.gca()\n",
    "ax.set_ylim([0, 100])\n",
    "ax.invert_yaxis()\n",
    "\n",
    "def draw_game(game_names: list[str]):\n",
    "    for i in game_names:\n",
    "        plot_arr = [[x[\"date\"], x[\"rank\"]] for x in extract_ranking_of_game(i)]\n",
    "        [x_values, y_values] = zip(*plot_arr)\n",
    "        plt.plot(x_values, y_values, label=i)\n",
    "\n",
    "draw_game([\"アイプラ\", \"ナナシス\", \"プロセカ\", \"シャニソン (SfP)\"])\n",
    "plt.legend(bbox_to_anchor=(1, 0.5))\n",
    "plt.show()"
   ]
  },
  {
   "cell_type": "code",
   "execution_count": null,
   "metadata": {},
   "outputs": [],
   "source": []
  }
 ],
 "metadata": {
  "kernelspec": {
   "display_name": "Python 3 (ipykernel)",
   "language": "python",
   "name": "python3"
  },
  "language_info": {
   "codemirror_mode": {
    "name": "ipython",
    "version": 3
   },
   "file_extension": ".py",
   "mimetype": "text/x-python",
   "name": "python",
   "nbconvert_exporter": "python",
   "pygments_lexer": "ipython3",
   "version": "3.13.1"
  }
 },
 "nbformat": 4,
 "nbformat_minor": 4
}
